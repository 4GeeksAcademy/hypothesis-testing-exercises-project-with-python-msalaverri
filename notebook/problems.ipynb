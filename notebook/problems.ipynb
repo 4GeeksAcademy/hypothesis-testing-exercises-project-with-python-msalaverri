{
 "cells": [
  {
   "cell_type": "markdown",
   "id": "d9d036c6",
   "metadata": {},
   "source": [
    "# Hypothesis testing problems"
   ]
  },
  {
   "cell_type": "markdown",
   "id": "d157c4db",
   "metadata": {},
   "source": [
    "## Exercise 1\n",
    "\n",
    "You are a nutritionist researching two different types of diets to see if there is a significant difference in weight loss after one month. You choose two random groups of people; one group follows the first diet, and the other follows the second. At the end of the month, you record the weight loss (in kg) for each person:\n",
    "\n",
    "| Diet 1 | Diet 2 |\n",
    "|:-------|:-------|\n",
    "| 2.0 | 3.0 |\n",
    "| 2.5 | 3.2 |\n",
    "| 3.0 | 3.1 |\n",
    "| 2.8 | 2.9 |\n",
    "| 2.3 | 2.8 |\n",
    "| 2.7 | 3.0 |\n",
    "| 2.5 | 3.2 |\n",
    "\n",
    "With these data, it seeks to answer the following question: Is there a significant difference in average weight loss between people who followed the first diet and those who followed the second diet?\n",
    "\n",
    "To draw conclusions, follow the points below:\n",
    "\n",
    "- State the hypothesis: null and alternative hypothesis.\n",
    "- Perform the test to test the hypothesis. You can use a Student's t-test.\n",
    "- Analyze the conclusions."
   ]
  },
  {
   "cell_type": "code",
   "execution_count": 1,
   "id": "8e0f3cf0",
   "metadata": {},
   "outputs": [],
   "source": [
    "# TODO\n",
    "\n",
    "from scipy import stats\n",
    "import numpy as np\n",
    "import statsmodels.api as sm\n",
    "\n",
    "#Data for the 2 diets\n",
    "diet1 = np.array([2.0, 2.5, 3.0, 2.8, 2.3, 2.7, 2.5])\n",
    "diet2 = np.array([3.0, 3.2, 3.1, 2.9, 2.8, 3.0, 3.2])"
   ]
  },
  {
   "cell_type": "markdown",
   "id": "72d3e0bb",
   "metadata": {},
   "source": [
    "H_0: There is no significant difference in the average weight loss between Diet 1 and Diet 2.\n",
    "\n",
    "H_1: There is a significant difference in the average weight loss between Diet 1 and Diet 2. "
   ]
  },
  {
   "cell_type": "code",
   "execution_count": 2,
   "id": "9a2a1ce3",
   "metadata": {},
   "outputs": [
    {
     "name": "stdout",
     "output_type": "stream",
     "text": [
      "T-Statistic: -3.5383407969933938\n",
      "P-value: 0.004083270191713912\n"
     ]
    }
   ],
   "source": [
    "#We perform the T-Test with the two samples to get the t-statistic value and the p-value\n",
    "t_stat, p_value = stats.ttest_ind(diet1, diet2)\n",
    "\n",
    "print(f'T-Statistic: {t_stat}')\n",
    "print(f'P-value: {p_value}')"
   ]
  },
  {
   "cell_type": "code",
   "execution_count": 13,
   "id": "4b2a6997",
   "metadata": {},
   "outputs": [
    {
     "name": "stdout",
     "output_type": "stream",
     "text": [
      "Reject the null hypothesis: There IS a significant difference in average weight loss between the two diets.\n",
      "As the p-value (0.004083270191713912) is less than alpha (0.05)\n"
     ]
    }
   ],
   "source": [
    "#We analyze the results. If the p-value is less than alpha we reject the null hypothesis, which will mean there is a significance between the 2 diets.\n",
    "alpha = 0.05\n",
    "if p_value < alpha:\n",
    "    print(f'Reject the null hypothesis: There IS a significant difference in average weight loss between the two diets.\\nAs the p-value ({p_value}) is less than alpha ({alpha})')\n",
    "else:\n",
    "    print(f'Fail to reject the null hypothesis: There is NO significant difference in average weight loss between the two diets.\\n\\nAs the p-value ({p_value}) is greater than alpha ({alpha})')"
   ]
  },
  {
   "cell_type": "markdown",
   "id": "b9206763",
   "metadata": {},
   "source": [
    "______________________"
   ]
  },
  {
   "cell_type": "markdown",
   "id": "f432e18e",
   "metadata": {},
   "source": [
    "## ANOVA\n",
    "\n",
    "**ANOVA** (*Analysis of Variance*) is a statistical technique used to compare the measures of two or more groups. The idea behind ANOVA is to decompose the total variability in the data into two components: between-group variability and within-group variability:\n",
    "\n",
    "- **Between-group variability**: This variability refers to the differences between the group means. If this variability is considerably larger than the within-group variability, it could be an indication that at least one of the group means is different.\n",
    "- **Within-group variability**: This variability refers to the dispersion of the data within each group. If all groups have similar variability, then any noticeable difference in group means could be considered significant.\n",
    "\n",
    "Hypotheses in ANOVA typically include:\n",
    "\n",
    "- **Null hypothesis** ($H₀$): The means of all groups are equal.\n",
    "- **Alternative hypothesis** ($H₁$): At least one of the group means is different.\n",
    "\n",
    "If the ANOVA test result is significant (e.g., a p-value less than a threshold such as 0.05), this suggests that at least one group mean is different."
   ]
  },
  {
   "cell_type": "markdown",
   "id": "fc5f3721",
   "metadata": {},
   "source": [
    "## Exercise 2\n",
    "\n",
    "A farmer decides to test three different types of fertilizers to determine if one is superior in terms of corn production. The farmer plants corn on 15 identical plots and uses all three fertilizers (5 plots for each type). At the end of the season, he measures the corn yield (in kg) of each plot, with the following result:\n",
    "\n",
    "| Fertilizer 1 | Fertilizer 2 | Fertilizer 3 |\n",
    "|:-------------|:-------------|:-------------|\n",
    "| 20 | 22 | 24 |\n",
    "| 21 | 21 | 23 |\n",
    "| 20 | 23 | 22 |\n",
    "| 19 | 22 | 23 |\n",
    "| 20 | 21 | 24 |\n",
    "\n",
    "With this data, he seeks to answer the following question: Is there a significant difference in average corn yield between the three types of fertilizers?\n",
    "\n",
    "To help you, follow the points below:\n",
    "\n",
    "- State the hypothesis: null and alternative hypothesis.\n",
    "- Perform the ANOVA test.\n",
    "- Analyze the conclusions.\n",
    "- If one fertilizer is better than another, how can we know it?"
   ]
  },
  {
   "cell_type": "code",
   "execution_count": 3,
   "id": "eecad0ca",
   "metadata": {},
   "outputs": [],
   "source": [
    "# TODO"
   ]
  }
 ],
 "metadata": {
  "kernelspec": {
   "display_name": "Python 3",
   "language": "python",
   "name": "python3"
  },
  "language_info": {
   "codemirror_mode": {
    "name": "ipython",
    "version": 3
   },
   "file_extension": ".py",
   "mimetype": "text/x-python",
   "name": "python",
   "nbconvert_exporter": "python",
   "pygments_lexer": "ipython3",
   "version": "3.11.4"
  }
 },
 "nbformat": 4,
 "nbformat_minor": 5
}
